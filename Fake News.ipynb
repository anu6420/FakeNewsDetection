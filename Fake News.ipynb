{
 "cells": [
  {
   "cell_type": "code",
   "execution_count": 6,
   "id": "25556412",
   "metadata": {},
   "outputs": [
    {
     "data": {
      "text/plain": [
       "REAL    3171\n",
       "FAKE    3164\n",
       "Name: label, dtype: int64"
      ]
     },
     "execution_count": 6,
     "metadata": {},
     "output_type": "execute_result"
    }
   ],
   "source": [
    "import numpy as np\n",
    "import pandas as pd\n",
    "\n",
    "from sklearn.model_selection import train_test_split\n",
    "from sklearn.feature_extraction.text import TfidfVectorizer\n",
    "from sklearn.svm import LinearSVC\n",
    "\n",
    "data = pd.read_csv(\"fake_or_real_news.csv\")\n",
    "data.label.value_counts()\n"
   ]
  },
  {
   "cell_type": "code",
   "execution_count": 7,
   "id": "68f74c45",
   "metadata": {},
   "outputs": [
    {
     "name": "stderr",
     "output_type": "stream",
     "text": [
      "/Users/ananyaadiki/anaconda3/lib/python3.11/site-packages/sklearn/svm/_classes.py:32: FutureWarning: The default value of `dual` will change from `True` to `'auto'` in 1.5. Set the value of `dual` explicitly to suppress the warning.\n",
      "  warnings.warn(\n"
     ]
    },
    {
     "data": {
      "text/plain": [
       "0.9376479873717443"
      ]
     },
     "execution_count": 7,
     "metadata": {},
     "output_type": "execute_result"
    }
   ],
   "source": [
    "data['fake'] = data['label'].apply(lambda x: 0 if x == 'REAL' else 1)#changing the fake or real columns to 0 and 1\n",
    "\n",
    "data = data.drop(\"label\", axis = 1)\n",
    "\n",
    "X, y = data['text'], data['fake']\n",
    "\n",
    "X_train, X_test, y_train, y_test = train_test_split(X,y, test_size=0.2)#training the model\n",
    "\n",
    "vectorizer = TfidfVectorizer(stop_words=\"english\", max_df=0.7)\n",
    "X_train_vectorized = vectorizer.fit_transform(X_train)\n",
    "X_test_vectorized = vectorizer.transform(X_test)\n",
    "\n",
    "clf = LinearSVC()#classifier \n",
    "clf.fit(X_train_vectorized, y_train)\n",
    "\n",
    "clf.score(X_test_vectorized, y_test) "
   ]
  },
  {
   "cell_type": "code",
   "execution_count": 8,
   "id": "8a7ff1ab",
   "metadata": {},
   "outputs": [],
   "source": [
    "with open (\"sample_text.txt\", 'w', encoding='utf-8') as text:\n",
    "    text.write(X_test.iloc[10])"
   ]
  },
  {
   "cell_type": "code",
   "execution_count": 9,
   "id": "612fae41",
   "metadata": {},
   "outputs": [],
   "source": [
    "with open(\"sample_text.txt\", 'r', encoding=\"utf-8\") as f:\n",
    "    text = f.read()"
   ]
  },
  {
   "cell_type": "code",
   "execution_count": 10,
   "id": "2135f0a6",
   "metadata": {},
   "outputs": [],
   "source": [
    "vectorized_text = vectorizer.transform([text])"
   ]
  },
  {
   "cell_type": "code",
   "execution_count": 11,
   "id": "f61de66f",
   "metadata": {},
   "outputs": [
    {
     "data": {
      "text/plain": [
       "array([1])"
      ]
     },
     "execution_count": 11,
     "metadata": {},
     "output_type": "execute_result"
    }
   ],
   "source": [
    "clf.predict(vectorized_text)"
   ]
  },
  {
   "cell_type": "code",
   "execution_count": 12,
   "id": "f9ceacc2",
   "metadata": {},
   "outputs": [
    {
     "name": "stdout",
     "output_type": "stream",
     "text": [
      "This article is fake!\n"
     ]
    }
   ],
   "source": [
    "if clf.predict == 1:\n",
    "    print(\"This article is real.\")\n",
    "else:\n",
    "    print(\"This article is fake!\")"
   ]
  },
  {
   "cell_type": "code",
   "execution_count": null,
   "id": "a8e45c50",
   "metadata": {},
   "outputs": [],
   "source": []
  }
 ],
 "metadata": {
  "kernelspec": {
   "display_name": "Python 3 (ipykernel)",
   "language": "python",
   "name": "python3"
  },
  "language_info": {
   "codemirror_mode": {
    "name": "ipython",
    "version": 3
   },
   "file_extension": ".py",
   "mimetype": "text/x-python",
   "name": "python",
   "nbconvert_exporter": "python",
   "pygments_lexer": "ipython3",
   "version": "3.11.4"
  }
 },
 "nbformat": 4,
 "nbformat_minor": 5
}
